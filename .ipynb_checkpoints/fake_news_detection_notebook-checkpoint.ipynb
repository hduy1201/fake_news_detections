{
 "cells": [
  {
   "cell_type": "markdown",
   "id": "fbcbb701",
   "metadata": {},
   "source": [
    "# Multi-Agent Fake News Detection System\n",
    "\n",
    "This notebook implements a sophisticated multi-agent system using LangChain and LangGraph to detect fake news in text. The system uses three specialized agents working together to provide comprehensive analysis.\n",
    "\n",
    "## System Overview\n",
    "\n",
    "- **Agent Z (Verifier)**: Uses RAG with Tavily Search API for fact verification\n",
    "- **Agent A (Fallacy Expert)**: Analyzes text for logical fallacies\n",
    "- **Agent B (Fake News Expert)**: Evaluates based on fake news criteria\n",
    "\n",
    "## Workflow\n",
    "1. Agent Z performs initial fact verification\n",
    "2. If passed, Agents A and B engage in a 3-turn debate\n",
    "3. Consensus is reached based on majority analysis\n",
    "\n",
    "## Setup Instructions\n",
    "\n",
    "### 1. Create Virtual Environment\n",
    "```bash\n",
    "python -m venv fake_news_env\n",
    "fake_news_env\\Scripts\\activate  # Windows"
   ]
  }
 ],
 "metadata": {
  "kernelspec": {
   "display_name": ".venv",
   "language": "python",
   "name": "python3"
  },
  "language_info": {
   "name": "python",
   "version": "3.13.2"
  }
 },
 "nbformat": 4,
 "nbformat_minor": 5
}
